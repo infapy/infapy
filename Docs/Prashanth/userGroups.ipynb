{
 "cells": [
  {
   "cell_type": "markdown",
   "id": "32420335",
   "metadata": {},
   "source": [
    "# User Groups"
   ]
  },
  {
   "cell_type": "markdown",
   "id": "ad34d212",
   "metadata": {},
   "source": [
    "Use the userGroups resource along with the users and roles resources to manage user privileges for Informatica Intelligent Cloud Services tasks and assets. Users and groups can perform tasks and access assets based on the roles that you assign to them."
   ]
  },
  {
   "cell_type": "code",
   "execution_count": 2,
   "id": "988bd712",
   "metadata": {},
   "outputs": [],
   "source": [
    "import infapy\n",
    "\n",
    "infapy.setFileLogger(name=\"test\",level=\"DEBUG\")\n",
    "infaHandler = infapy.connect(profile=\"DEV\")\n",
    "v3 = infaHandler.v3()\n",
    "userGroups = v3.userGroups()"
   ]
  },
  {
   "cell_type": "markdown",
   "id": "a7a7f0aa",
   "metadata": {},
   "source": [
    "## Function: getAllUserGroups()"
   ]
  },
  {
   "cell_type": "markdown",
   "id": "3d8abf70",
   "metadata": {},
   "source": [
    ">        Method for fetching all the user groups in IICS\n",
    ">\n",
    ">        Returns:\n",
    ">            list of dict: List of all user groups in IICS"
   ]
  },
  {
   "cell_type": "markdown",
   "id": "463dd5e4",
   "metadata": {},
   "source": [
    "### Example for getAllUserGroups"
   ]
  },
  {
   "cell_type": "code",
   "execution_count": 3,
   "id": "81d2c522",
   "metadata": {},
   "outputs": [
    {
     "name": "stdout",
     "output_type": "stream",
     "text": [
      "{'id': '3T4BuFAenI7enCWZBCjRKn', 'orgId': 'fg1dzqDZ1K3lbHp8uq5vQB', 'createdBy': 'prashanth-p', 'updatedBy': 'prashanth-p', 'createTime': '2021-09-07T18:03:12.000Z', 'updateTime': '2021-09-07T18:03:12.000Z', 'userGroupName': '32f9e987-b422-42cf-bf00-dbd01243920b;32f9e987-b422-42cf-bf00-dbd01243920b;32f9e987-b422-42cf-bf00-dbd01243920b;32f9e987-b422-42cf-bf00-dbd01243920b32f9e987-b422-42cf-bf00-dbd01243920b', 'description': None, 'roles': [{'id': '5RZKlypdE5QiAIIAngXSS8', 'roleName': 'Business Manager', 'description': 'Role used for business managers', 'displayName': 'Application Integration Business Manager', 'displayDescription': 'Role used for business managers'}], 'users': []}\n",
      "\n",
      "{'id': '2yD1ZOHwo50beZglCQLcU1', 'orgId': 'fg1dzqDZ1K3lbHp8uq5vQB', 'createdBy': 'prashanth-p', 'updatedBy': 'prashanth-p', 'createTime': '2021-09-07T18:08:14.000Z', 'updateTime': '2021-09-07T18:08:14.000Z', 'userGroupName': '32f9e987-b422-42cf-bf00-dbd01243920b;32f9e987-b422-42cf-bf00-dbd01243920b;32f9e987-b422-42cf-bf00-dbd01243920b;32f9e987-b422-42cf-bf00-dbd01243920b32f9e987-b422-42cf-bf00-dbd01243920b;32f9e987-b422-42cf-bf00-dbd01243920b;', 'description': None, 'roles': [{'id': '5RZKlypdE5QiAIIAngXSS8', 'roleName': 'Business Manager', 'description': 'Role used for business managers', 'displayName': 'Application Integration Business Manager', 'displayDescription': 'Role used for business managers'}], 'users': []}\n",
      "\n",
      "{'id': 'huoQp9M4jaVgIwIIgI8Q81', 'orgId': 'fg1dzqDZ1K3lbHp8uq5vQB', 'createdBy': 'prashanth-p', 'updatedBy': 'prashanth-p', 'createTime': '2021-09-15T19:31:06.000Z', 'updateTime': '2021-09-15T19:31:06.000Z', 'userGroupName': '32f9e987-b422-42cf-bf00-dbd01243920b;32f9e987-b422-42cf-bf00-dbd01243920b;32f9e987-b422-42cf-bf00-dbd01243920b;32f9e987-b422-42cf-bf00-dbd01243920b32f9e987-b422-42cf-bf00-dbd01243920b;32f9e987-b422-42cf-bf00-dbd01243920b;32f9e987-b422-42cf-bf00-dbd', 'description': None, 'roles': [{'id': '5RZKlypdE5QiAIIAngXSS8', 'roleName': 'Business Manager', 'description': 'Role used for business managers', 'displayName': 'Application Integration Business Manager', 'displayDescription': 'Role used for business managers'}], 'users': []}\n",
      "\n"
     ]
    }
   ],
   "source": [
    "getAllUserGroups = userGroups.getAllUserGroups()\n",
    "# Printing only the first 3 roles for example\n",
    "for i in range(3):\n",
    "    print(getAllUserGroups[i])\n",
    "    print()\n",
    "    "
   ]
  },
  {
   "cell_type": "markdown",
   "id": "81598d69",
   "metadata": {},
   "source": [
    "## Function: createNewUserGroup()"
   ]
  },
  {
   "cell_type": "markdown",
   "id": "c74ee241",
   "metadata": {},
   "source": [
    ">        You can use this method to create a new user group\n",
    ">\n",
    ">        Args:\n",
    ">            userGroupJson (dict): please read the documentation\n",
    ">\n",
    ">        Raises:\n",
    ">            InvalidArgumentsError: if invalid args are passed\n",
    ">\n",
    ">        Returns:\n",
    ">            dict: user group created response"
   ]
  },
  {
   "cell_type": "code",
   "execution_count": 36,
   "id": "0417b30f",
   "metadata": {},
   "outputs": [
    {
     "name": "stdout",
     "output_type": "stream",
     "text": [
      "User ID of User prashanth-p: 42szaouMf0bg0yycPME0Up\n",
      "User ID of User reshma-r: 0Kk2nHoX9eUgdzgu9HRYCS\n",
      "Role ID of Admin Role: 9gedBDoYQoQibNMohf5KCh\n",
      "{'id': '93jD796cGQNcB8ZEbfwdO9', 'orgId': 'fg1dzqDZ1K3lbHp8uq5vQB', 'createdBy': 'prashanth-p', 'updatedBy': 'prashanth-p', 'createTime': '2021-09-26T13:22:02.171Z', 'updateTime': '2021-09-26T13:22:02.180Z', 'userGroupName': 'user_group_1', 'description': None, 'roles': [{'id': '9gedBDoYQoQibNMohf5KCh', 'roleName': 'Admin', 'description': 'Role for performing administrative tasks for an organization. Has full access to all licensed services.', 'displayName': 'Admin', 'displayDescription': 'Role for performing administrative tasks for an organization. Has full access to all licensed services.'}], 'users': [{'id': '0Kk2nHoX9eUgdzgu9HRYCS', 'userName': 'reshma-r', 'description': ''}, {'id': '42szaouMf0bg0yycPME0Up', 'userName': 'prashanth-p', 'description': ''}]}\n"
     ]
    }
   ],
   "source": [
    "# v3 = infaHandler.v2()\n",
    "user = v3.users()\n",
    "userDetails = user.getAllUsers()\n",
    "for eachUser in userDetails:\n",
    "    if eachUser[\"userName\"] in [\"prashanth-p\",\"reshma-r\"]:\n",
    "        print(\"User ID of User \" + eachUser[\"userName\"] + \": \" + eachUser[\"id\"])\n",
    "\n",
    "adminRole = v3.userRoles().getUserRoleByName(userRoleName=\"admin\")\n",
    "print(\"Role ID of Admin Role: \" + adminRole[0][\"id\"])\n",
    "\n",
    "\n",
    "groupJsonBody = {\n",
    "    \"name\" : \"user_group_1\",\n",
    "    \"roles\" : [\"9gedBDoYQoQibNMohf5KCh\"],\n",
    "    \"users\" : [\"42szaouMf0bg0yycPME0Up\",\"0Kk2nHoX9eUgdzgu9HRYCS\"]\n",
    "}\n",
    "\n",
    "newGroup = userGroups.createNewUserGroup(userGroupJson=groupJsonBody)\n",
    "print(newGroup)"
   ]
  },
  {
   "cell_type": "markdown",
   "id": "f976d601",
   "metadata": {},
   "source": [
    "## Function: getUserGroupByName"
   ]
  },
  {
   "cell_type": "markdown",
   "id": "4bb22e80",
   "metadata": {},
   "source": [
    ">        Method for fetching the user group details\n",
    ">        by name in IICS\n",
    ">\n",
    ">        Args:\n",
    ">            userGroupName (string): name of the usergroup\n",
    ">\n",
    ">        Returns:\n",
    ">            dict: userGroup Details"
   ]
  },
  {
   "cell_type": "code",
   "execution_count": 38,
   "id": "e258d1ba",
   "metadata": {},
   "outputs": [
    {
     "name": "stdout",
     "output_type": "stream",
     "text": [
      "[{'id': '93jD796cGQNcB8ZEbfwdO9', 'orgId': 'fg1dzqDZ1K3lbHp8uq5vQB', 'createdBy': 'prashanth-p', 'updatedBy': 'prashanth-p', 'createTime': '2021-09-26T13:22:02.000Z', 'updateTime': '2021-09-26T13:22:02.000Z', 'userGroupName': 'user_group_1', 'description': None, 'roles': [{'id': '9gedBDoYQoQibNMohf5KCh', 'roleName': 'Admin', 'description': 'Role for performing administrative tasks for an organization. Has full access to all licensed services.', 'displayName': 'Admin', 'displayDescription': 'Role for performing administrative tasks for an organization. Has full access to all licensed services.'}], 'users': [{'id': '0Kk2nHoX9eUgdzgu9HRYCS', 'userName': 'reshma-r', 'description': ''}, {'id': '42szaouMf0bg0yycPME0Up', 'userName': 'prashanth-p', 'description': ''}]}]\n"
     ]
    }
   ],
   "source": [
    "response = userGroups.getUserGroupByName(userGroupName=\"user_group_1\")\n",
    "print(response)\n"
   ]
  },
  {
   "cell_type": "markdown",
   "id": "0b26ac13",
   "metadata": {},
   "source": [
    "## Function: deleteUserrole()"
   ]
  },
  {
   "cell_type": "markdown",
   "id": "e029532c",
   "metadata": {},
   "source": [
    ">        The function deletes the user role in informatica cloud\n",
    ">\n",
    ">        Args:\n",
    ">            userRoleID (string): User role ID"
   ]
  },
  {
   "cell_type": "code",
   "execution_count": 39,
   "id": "3a121b7d",
   "metadata": {},
   "outputs": [
    {
     "name": "stdout",
     "output_type": "stream",
     "text": [
      "<Response [204]>\n"
     ]
    }
   ],
   "source": [
    "# You can get the role id from the get commands as in above example\n",
    "response = userGroups.deleteUserGroup(userGroupID=\"93jD796cGQNcB8ZEbfwdO9\")\n",
    "print(response)"
   ]
  }
 ],
 "metadata": {
  "kernelspec": {
   "display_name": "Python 3 (ipykernel)",
   "language": "python",
   "name": "python3"
  },
  "language_info": {
   "codemirror_mode": {
    "name": "ipython",
    "version": 3
   },
   "file_extension": ".py",
   "mimetype": "text/x-python",
   "name": "python",
   "nbconvert_exporter": "python",
   "pygments_lexer": "ipython3",
   "version": "3.9.6"
  }
 },
 "nbformat": 4,
 "nbformat_minor": 5
}
