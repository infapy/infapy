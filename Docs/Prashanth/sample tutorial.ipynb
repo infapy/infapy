{
 "cells": [
  {
   "cell_type": "markdown",
   "id": "26a0e465",
   "metadata": {},
   "source": [
    "# A Sample Tutorial"
   ]
  },
  {
   "cell_type": "markdown",
   "id": "6d8e020c",
   "metadata": {},
   "source": [
    "The goal of this tutorial is to help you get started with infapy. infapy is a very simple, yet powerful tool to automate business specific use cases with python. \n",
    "\n",
    "You can do a lot with our library of which some examples include, triggerring a mapping task with job (v2), monitoring the jobs using (ActivityMonitor), performing auto code migration (with v3 export, import) etc.\n",
    "\n",
    "In this tutorial, we walk you through the 1,2 and 3 steps required to get started."
   ]
  },
  {
   "cell_type": "markdown",
   "id": "83d6e3b4",
   "metadata": {},
   "source": [
    "## Creating the config files"
   ]
  },
  {
   "cell_type": "markdown",
   "id": "963b65a1",
   "metadata": {},
   "source": [
    "We follow a profile based approach to connect to informatica cloud and use a strong encrypted key so passwords are not stored in clear text.\n",
    "\n",
    "##### Creating the configuration files:\n",
    "\n",
    "In Linux the default path is: ~/.infa/\n",
    "In Windows the default path is: C:\\Users\\yourUserName\\\\.infa\\\n",
    "\n",
    "Create two files in this location\n",
    "- credentials\n",
    "- config\n",
    "\n",
    "In the credentials file, store the credentails with a profile Name, like below:\n",
    ">    [default]<br>\n",
    ">    region = us<br>\n",
    ">\n",
    ">    [myProfile]<br>\n",
    ">    region = us<br>\n",
    ">    \n",
    ">    [dev]<br>\n",
    ">    region = us<br>\n",
    "\n",
    "In the config file, store the infa_access_key_id and the infa_secret_access_key with the profile Name, like below.\n",
    ">    [default]<br>\n",
    ">    infa_access_key_id = value<br>\n",
    ">    infa_secret_access_key = value<br>\n",
    ">\n",
    ">\n",
    ">    [myProfile]<br>\n",
    ">    infa_access_key_id = value<br>\n",
    ">    infa_secret_access_key = value<br>\n",
    ">    \n",
    ">    [dev]<br>\n",
    ">    infa_access_key_id = value<br>\n",
    ">    infa_secret_access_key = value<br>\n",
    "\n",
    "Follow the getting started guide for steps to use the encrypt function to get the above access key values\n"
   ]
  },
  {
   "cell_type": "markdown",
   "id": "730b3fd5",
   "metadata": {},
   "source": [
    "## Connecting to Informatica Cloud"
   ]
  },
  {
   "cell_type": "code",
   "execution_count": 2,
   "id": "bcd778c3",
   "metadata": {},
   "outputs": [],
   "source": [
    "import infapy\n",
    "infaHandler = infapy.connect(profile=\"DEV\")\n",
    "\n",
    "# if you are using the default profile\n",
    "infaHandler = infapy.connect()"
   ]
  },
  {
   "cell_type": "markdown",
   "id": "6598725f",
   "metadata": {},
   "source": [
    "## Enabling Logging with Infapy"
   ]
  },
  {
   "cell_type": "markdown",
   "id": "6c5706cd",
   "metadata": {},
   "source": [
    "We support two types of loggers, \n",
    "\n",
    "- One is a file logger which logs all activities to a file called infapy.log in the current working directory where the script is running.\n",
    "- The second is stream logger. Useful when you are working with python in the shell / command prompt so the logs are streamed.\n",
    "\n",
    "\n",
    "We support 4 levels of logging:\n",
    ">    - DEBUG\n",
    ">    - INFO\n",
    ">    - WARN\n",
    ">    - ERROR\n",
    "    \n",
    "Please note that enabling DEBUG logging will output the entire wire trace to the log files."
   ]
  },
  {
   "cell_type": "markdown",
   "id": "6e23ff3e",
   "metadata": {},
   "source": [
    "### Enabling File Logger"
   ]
  },
  {
   "cell_type": "markdown",
   "id": "9809e038",
   "metadata": {},
   "source": [
    ">    Use this function to enable file logging<br>\n",
    ">\n",
    ">    Args:<br>\n",
    ">        name (str, optional): Name of your logger. Defaults to \"infapy\".<br>\n",
    ">        filepath (type, optional): The location where you want to create the file. Defaults to current working directory.<br>\n",
    ">        level (type, optional): DEBUG/WARN/INFO/ERROR. Default is at INFO<br>\n",
    ">        formatString (type, optional): If you want to change the formating of the logger<br>"
   ]
  },
  {
   "cell_type": "code",
   "execution_count": 3,
   "id": "f5bd2e64",
   "metadata": {},
   "outputs": [],
   "source": [
    "# Add the below code at the start of every script\n",
    "# ideally the name of the logger is the name of your script\n",
    "# so if your script is prodExport.py\n",
    "# name of logger is prodExport\n",
    "\n",
    "import infapy\n",
    "infapy.setFileLogger(name=\"test\",level=\"DEBUG\")\n",
    "infaHandler = infapy.connect(profile=\"DEV\")"
   ]
  },
  {
   "cell_type": "markdown",
   "id": "79763951",
   "metadata": {},
   "source": [
    "### Enabling Stream Logger:"
   ]
  },
  {
   "cell_type": "markdown",
   "id": "f5f5c17d",
   "metadata": {},
   "source": [
    ">    Use this function to enable file logging<br>\n",
    ">\n",
    ">    Args:<br>\n",
    ">        name (str, optional): Name of your logger. Defaults to \"infapy\".<br>\n",
    ">        level (type, optional): DEBUG/WARN/INFO/ERROR. Default is at INFO<br>\n",
    ">        formatString (type, optional): If you want to change the formating of the logger<br>"
   ]
  },
  {
   "cell_type": "code",
   "execution_count": 6,
   "id": "4435c941",
   "metadata": {},
   "outputs": [
    {
     "name": "stderr",
     "output_type": "stream",
     "text": [
      "2021-09-26 23:42:56,267  test  INFO: New instance of infapy started from hostname: INWPF23T242-AAD\n",
      "2021-09-26 23:42:56,276  test  INFO: Host OS: Windows\n",
      "2021-09-26 23:42:56,277  test  INFO: INFAPY Root Path: C:\\Users\\ppradeep\\.infa\n"
     ]
    }
   ],
   "source": [
    "# Add the below code at the start of every script\n",
    "# ideally the name of the logger is the name of your script\n",
    "# so if your script is prodExport.py\n",
    "# name of logger is prodExport\n",
    "\n",
    "import infapy\n",
    "infapy.setStreamLogger(name=\"test\",level=\"INFO\")\n",
    "infaHandler = infapy.connect(profile=\"DEV\")"
   ]
  },
  {
   "cell_type": "markdown",
   "id": "16f8183a",
   "metadata": {},
   "source": [
    "## Creating the informatica handlers"
   ]
  },
  {
   "cell_type": "code",
   "execution_count": 8,
   "id": "07d13d62",
   "metadata": {
    "scrolled": true
   },
   "outputs": [
    {
     "name": "stderr",
     "output_type": "stream",
     "text": [
      "2021-09-26 23:44:30,582  test  INFO: Created the v3 object to access the iics v3 apis\n",
      "2021-09-26 23:44:30,583  test  INFO: created a v3 handler object successfully\n",
      "2021-09-26 23:44:30,584  test  INFO: v3BaseURL: https://na1.dm-us.informaticacloud.com/saas\n",
      "2021-09-26 23:44:30,592  test  INFO: Created the v2 object to access the iics v2 apis\n",
      "2021-09-26 23:44:30,592  test  INFO: created a v2 class object successfully\n",
      "2021-09-26 23:44:30,593  test  INFO: v2BaseURL: https://na1.dm-us.informaticacloud.com/saas\n"
     ]
    }
   ],
   "source": [
    "infaHandler = infapy.connect(profile=\"DEV\")\n",
    "\n",
    "# Create v3 handle\n",
    "v3 = infaHandler.v3()\n",
    "\n",
    "# Create v2 handle\n",
    "v2 = infaHandler.v2()\n"
   ]
  },
  {
   "cell_type": "markdown",
   "id": "353568ba",
   "metadata": {},
   "source": [
    "You are now ready to follow along the tutorials to get started. I suggest you review the Business Scenarios next and then proceed with the documentaion."
   ]
  }
 ],
 "metadata": {
  "kernelspec": {
   "display_name": "Python 3 (ipykernel)",
   "language": "python",
   "name": "python3"
  },
  "language_info": {
   "codemirror_mode": {
    "name": "ipython",
    "version": 3
   },
   "file_extension": ".py",
   "mimetype": "text/x-python",
   "name": "python",
   "nbconvert_exporter": "python",
   "pygments_lexer": "ipython3",
   "version": "3.9.6"
  }
 },
 "nbformat": 4,
 "nbformat_minor": 5
}
