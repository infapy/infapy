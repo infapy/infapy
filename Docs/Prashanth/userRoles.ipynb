{
 "cells": [
  {
   "cell_type": "markdown",
   "id": "32420335",
   "metadata": {},
   "source": [
    "# User Roles"
   ]
  },
  {
   "cell_type": "markdown",
   "id": "ad34d212",
   "metadata": {},
   "source": [
    "Use this resource to get the details for roles in your organization. You can also use this resource to create and delete custom roles."
   ]
  },
  {
   "cell_type": "code",
   "execution_count": 3,
   "id": "988bd712",
   "metadata": {},
   "outputs": [],
   "source": [
    "import infapy\n",
    "\n",
    "infapy.setFileLogger(name=\"test\",level=\"DEBUG\")\n",
    "infaHandler = infapy.connect(profile=\"DEV\")\n",
    "v3 = infaHandler.v3()\n",
    "userRoles = v3.userRoles()"
   ]
  },
  {
   "cell_type": "markdown",
   "id": "a7a7f0aa",
   "metadata": {},
   "source": [
    "## Function: getAllUserRoles()"
   ]
  },
  {
   "cell_type": "markdown",
   "id": "3d8abf70",
   "metadata": {},
   "source": [
    ">        Method for fetching all the user roles in IICS\n",
    ">\n",
    ">        Returns:\n",
    ">            list of dict: List of all user roles in IICS"
   ]
  },
  {
   "cell_type": "markdown",
   "id": "463dd5e4",
   "metadata": {},
   "source": [
    "### Example for getAllUserRoles"
   ]
  },
  {
   "cell_type": "code",
   "execution_count": 6,
   "id": "81d2c522",
   "metadata": {},
   "outputs": [
    {
     "name": "stdout",
     "output_type": "stream",
     "text": [
      "{'id': '9gedBDoYQoQibNMohf5KCh', 'orgId': '52ZSTB0IDK6dXxaEQLUaQu', 'createdBy': 'System built-in user', 'updatedBy': 'ops-post-deploy-user', 'createTime': '2017-12-05T21:02:36.000Z', 'updateTime': '2021-09-15T04:42:29.000Z', 'roleName': 'Admin', 'description': 'Role for performing administrative tasks for an organization. Has full access to all licensed services.', 'displayName': 'Admin', 'displayDescription': 'Role for performing administrative tasks for an organization. Has full access to all licensed services.', 'systemRole': True, 'status': 'Enabled'}\n",
      "\n",
      "{'id': '5RZKlypdE5QiAIIAngXSS8', 'orgId': '52ZSTB0IDK6dXxaEQLUaQu', 'createdBy': 'ops-post-deploy-user', 'updatedBy': 'ops-post-deploy-user', 'createTime': '2018-02-11T04:16:57.000Z', 'updateTime': '2018-10-13T15:00:28.000Z', 'roleName': 'Business Manager', 'description': 'Role used for business managers', 'displayName': 'Application Integration Business Manager', 'displayDescription': 'Role used for business managers', 'systemRole': True, 'status': 'Enabled'}\n",
      "\n",
      "{'id': '8hQVJFGyyQkep1g2AeEewB', 'orgId': '52ZSTB0IDK6dXxaEQLUaQu', 'createdBy': 'ops-post-deploy-user', 'updatedBy': 'ops-post-deploy-user', 'createTime': '2018-02-11T04:16:57.000Z', 'updateTime': '2018-10-13T15:00:28.000Z', 'roleName': 'Data Viewer', 'description': 'Role used for granting access for data', 'displayName': 'Application Integration Data Viewer', 'displayDescription': 'Role used for granting access for data', 'systemRole': True, 'status': 'Enabled'}\n",
      "\n"
     ]
    }
   ],
   "source": [
    "getAllUserRoles = userRoles.getAllUserRoles()\n",
    "# Printing only the first 3 roles for example\n",
    "for i in range(3):\n",
    "    print(getAllUserRoles[i])\n",
    "    print()\n",
    "    "
   ]
  },
  {
   "cell_type": "markdown",
   "id": "81598d69",
   "metadata": {},
   "source": [
    "## Function: createNewUserRole()"
   ]
  },
  {
   "cell_type": "markdown",
   "id": "c74ee241",
   "metadata": {},
   "source": [
    ">        You can use this method to create a new user role\n",
    ">\n",
    ">        Args:\n",
    ">            userRoleJson (dict): please read the documentation\n",
    ">\n",
    ">        Raises:\n",
    ">            InvalidArgumentsError: if invalid args are passed\n",
    ">\n",
    ">        Returns:\n",
    ">            dict: user role created response"
   ]
  },
  {
   "cell_type": "code",
   "execution_count": 16,
   "id": "0417b30f",
   "metadata": {},
   "outputs": [
    {
     "name": "stdout",
     "output_type": "stream",
     "text": [
      "{'id': '3FPb258AcWZkDxO6v25dGx', 'orgId': 'fg1dzqDZ1K3lbHp8uq5vQB', 'createdBy': 'prashanth-p', 'updatedBy': 'prashanth-p', 'createTime': '2021-09-26T12:25:20.394Z', 'updateTime': '2021-09-26T12:25:20.400Z', 'roleName': 'myTestRole', 'description': 'my test roles', 'displayName': 'myTestRole', 'displayDescription': 'my test roles', 'systemRole': False, 'status': 'Enabled'}\n"
     ]
    }
   ],
   "source": [
    "response = userRoles.createNewUserRole(name=\"myTestRole\",description=\"my test roles\",privileges=[\"9Yz7DzpQAKThluCEpbUqmX\"])\n",
    "print(response)"
   ]
  },
  {
   "cell_type": "markdown",
   "id": "f976d601",
   "metadata": {},
   "source": [
    "## Function: getUserRoleByName"
   ]
  },
  {
   "cell_type": "markdown",
   "id": "a6201d06",
   "metadata": {},
   "source": [
    ">        Method for fetching the user role details\n",
    ">        by name in IICS\n",
    ">\n",
    ">        Args:\n",
    ">            userRoleName (string): name of the userrole\n",
    ">\n",
    ">        Returns:\n",
    ">            dict: userrole Details"
   ]
  },
  {
   "cell_type": "code",
   "execution_count": 17,
   "id": "e258d1ba",
   "metadata": {},
   "outputs": [
    {
     "name": "stdout",
     "output_type": "stream",
     "text": [
      "[{'id': '3FPb258AcWZkDxO6v25dGx', 'orgId': 'fg1dzqDZ1K3lbHp8uq5vQB', 'createdBy': 'prashanth-p', 'updatedBy': 'prashanth-p', 'createTime': '2021-09-26T12:25:20.000Z', 'updateTime': '2021-09-26T12:25:20.000Z', 'roleName': 'myTestRole', 'description': 'my test roles', 'displayName': 'myTestRole', 'displayDescription': 'my test roles', 'systemRole': False, 'status': 'Enabled', 'privileges': [{'id': '9Yz7DzpQAKThluCEpbUqmX', 'name': 'create.datawiz.task', 'description': None, 'service': 'DI', 'status': 'Enabled'}]}]\n"
     ]
    }
   ],
   "source": [
    "response = v3.userRoles().getUserRoleByName(userRoleName=\"myTestRole\")\n",
    "print(response)\n"
   ]
  },
  {
   "cell_type": "markdown",
   "id": "0b26ac13",
   "metadata": {},
   "source": [
    "## Function: deleteUserrole()"
   ]
  },
  {
   "cell_type": "markdown",
   "id": "e029532c",
   "metadata": {},
   "source": [
    ">        The function deletes the user role in informatica cloud\n",
    ">\n",
    ">        Args:\n",
    ">            userRoleID (string): User role ID"
   ]
  },
  {
   "cell_type": "code",
   "execution_count": 18,
   "id": "3a121b7d",
   "metadata": {},
   "outputs": [
    {
     "name": "stdout",
     "output_type": "stream",
     "text": [
      "<Response [204]>\n"
     ]
    }
   ],
   "source": [
    "# You can get the role id from the get commands as in above example\n",
    "response = v3.userRoles().deleteUserrole(userRoleID=\"3FPb258AcWZkDxO6v25dGx\")\n",
    "print(response)"
   ]
  }
 ],
 "metadata": {
  "kernelspec": {
   "display_name": "Python 3 (ipykernel)",
   "language": "python",
   "name": "python3"
  },
  "language_info": {
   "codemirror_mode": {
    "name": "ipython",
    "version": 3
   },
   "file_extension": ".py",
   "mimetype": "text/x-python",
   "name": "python",
   "nbconvert_exporter": "python",
   "pygments_lexer": "ipython3",
   "version": "3.9.6"
  }
 },
 "nbformat": 4,
 "nbformat_minor": 5
}
