{
 "cells": [
  {
   "cell_type": "markdown",
   "id": "f3e64c00",
   "metadata": {},
   "source": [
    "# Import"
   ]
  },
  {
   "cell_type": "markdown",
   "id": "80338b76",
   "metadata": {},
   "source": [
    "Use this resource with the export resource to migrate objects from one organization to another."
   ]
  },
  {
   "cell_type": "markdown",
   "id": "ccaacc61",
   "metadata": {},
   "source": [
    "# Prerequisite - Need to get the source and target object ids"
   ]
  },
  {
   "cell_type": "markdown",
   "id": "ad9ed762",
   "metadata": {},
   "source": [
    "When we are performing an import operation, we need to map the source connection with the target connection, similartly map the source runtime environment with the target runtime env. As a first step, we need to get the object ids of the source dependant objects and the target dependant objects."
   ]
  },
  {
   "cell_type": "code",
   "execution_count": 47,
   "id": "84a89621",
   "metadata": {},
   "outputs": [
    {
     "name": "stdout",
     "output_type": "stream",
     "text": [
      "{'objects': [{'id': '848Au1yuOzAcdxJMgPkdqy', 'path': '__ff', 'type': 'Connection', 'description': None, 'updatedBy': 'prashanth-p', 'updateTime': '2021-08-12T14:40:54Z'}]}\n",
      "srcConnection ID: 848Au1yuOzAcdxJMgPkdqy\n",
      "{'objects': [{'id': '95OeUg6sjYVhH6zxQUB76k', 'path': 'prashanth-sbx', 'type': 'AgentGroup', 'description': None, 'updatedBy': 'prashanth-p', 'updateTime': '2021-02-15T07:50:30Z'}]}\n",
      "srcRuntime ID: 95OeUg6sjYVhH6zxQUB76k\n"
     ]
    }
   ],
   "source": [
    "# First fetching source depenant object ids\n",
    "import infapy\n",
    "\n",
    "infapy.setFileLogger(name=\"DEV Logger\",level=\"DEBUG\")\n",
    "devInfaHandler = infapy.connect(profile=\"DEV\")\n",
    "v3 = devInfaHandler.v3()\n",
    "\n",
    "# Get the connection object id\n",
    "lookupObj = v3.lookup(path=\"__ff\",objectType=\"connection\")\n",
    "print(lookupObj)\n",
    "srcConnectionID = lookupObj[\"objects\"][0][\"id\"]\n",
    "print(\"srcConnection ID: \" + srcConnectionID)\n",
    "\n",
    "# Get the agent group object details\n",
    "lookupObj = v3.lookup(path=\"prashanth-sbx\",objectType=\"agentgroup\")\n",
    "print(lookupObj)\n",
    "srcRuntimeID = lookupObj[\"objects\"][0][\"id\"]\n",
    "print(\"srcRuntime ID: \" + srcRuntimeID)\n"
   ]
  },
  {
   "cell_type": "code",
   "execution_count": 51,
   "id": "3bdcaa22",
   "metadata": {},
   "outputs": [
    {
     "name": "stdout",
     "output_type": "stream",
     "text": [
      "{'objects': [{'id': '9YGTW8zLVaAb6O15bcjbyk', 'path': 'FF', 'type': 'Connection', 'description': None, 'updatedBy': 'prash1234', 'updateTime': '2021-09-25T07:12:53Z'}]}\n",
      "tgtConnection ID: 9YGTW8zLVaAb6O15bcjbyk\n",
      "{'objects': [{'id': 'iwvniZZPdG6cltC3Uzcf2i', 'path': 'prashanth-redhat-sbx', 'type': 'AgentGroup', 'description': None, 'updatedBy': 'prash1234', 'updateTime': '2021-09-25T07:03:24Z'}]}\n",
      "tgtRuntime ID: iwvniZZPdG6cltC3Uzcf2i\n"
     ]
    }
   ],
   "source": [
    "# First fetching target depenant object ids\n",
    "import infapy\n",
    "\n",
    "infapy.setFileLogger(name=\"QA Logger\",level=\"DEBUG\")\n",
    "qaInfaHandler = infapy.connect(profile=\"QA\")\n",
    "v3 = qaInfaHandler.v3()\n",
    "\n",
    "# Get the connection object id\n",
    "lookupObj = v3.lookup(path=\"FF\",objectType=\"connection\")\n",
    "print(lookupObj)\n",
    "tgtConnectionID = lookupObj[\"objects\"][0][\"id\"]\n",
    "print(\"tgtConnection ID: \" + tgtConnectionID)\n",
    "\n",
    "# Get the agent group object details\n",
    "lookupObj = v3.lookup(path=\"prashanth-redhat-sbx\",objectType=\"agentgroup\")\n",
    "print(lookupObj)\n",
    "tgtRuntimeID = lookupObj[\"objects\"][0][\"id\"]\n",
    "print(\"tgtRuntime ID: \" + tgtRuntimeID)"
   ]
  },
  {
   "cell_type": "markdown",
   "id": "b6942267",
   "metadata": {},
   "source": [
    "## Function: uploadZipToGetJobID()"
   ]
  },
  {
   "cell_type": "markdown",
   "id": "6c28631f",
   "metadata": {},
   "source": [
    ">        Use this function to import the zip file to fetch the job id\n",
    ">        This function initiates the process \n",
    ">\n",
    ">        Args:\n",
    ">            filePath (str, optional): Defaults to os.getcwd().\n",
    ">            fileName (str, optional): Defaults to \"infapyExportDownloaded.zip\".\n",
    ">\n",
    ">        Raises:\n",
    ">            InvalidArgumentsError: if invalid arguments are provided\n",
    ">\n",
    ">        Returns:\n",
    ">            json: response after the upload zip has been initiated"
   ]
  },
  {
   "cell_type": "code",
   "execution_count": 33,
   "id": "f3d251cb",
   "metadata": {},
   "outputs": [
    {
     "name": "stdout",
     "output_type": "stream",
     "text": [
      "{'jobId': '8bSlx81r2GSlX417G9XNsq', 'jobStatus': {'state': 'NOT_STARTED', 'message': None}, 'checksumValid': True}\n",
      "\n",
      "Import Job ID: 8bSlx81r2GSlX417G9XNsq\n"
     ]
    }
   ],
   "source": [
    "v3 = qaInfaHandler.v3()\n",
    "importObj = v3.importObject()\n",
    "\n",
    "response = importObj.uploadZipToGetJobID()\n",
    "print(response)\n",
    "print()\n",
    "\n",
    "importJobID = response[\"jobId\"]\n",
    "print(\"Import Job ID: \" + importJobID)"
   ]
  },
  {
   "cell_type": "markdown",
   "id": "da172a44",
   "metadata": {},
   "source": [
    "## Function: startImportByJobID()"
   ]
  },
  {
   "cell_type": "markdown",
   "id": "d68efaf0",
   "metadata": {},
   "source": [
    ">        This function initiates the job once the\n",
    ">        zip is uploaded\n",
    ">\n",
    ">        Args:\n",
    ">            jobID (str): From response of uploadZipToGetJobID\n",
    ">            importBody (dict): Read the docs for understanding the import body\n",
    ">\n",
    ">        Raises:\n",
    ">            InvalidArgumentsError: if invalid body sent\n",
    ">\n",
    ">        Returns:\n",
    ">            json: import job success response"
   ]
  },
  {
   "cell_type": "code",
   "execution_count": 34,
   "id": "148a8eae",
   "metadata": {},
   "outputs": [
    {
     "name": "stdout",
     "output_type": "stream",
     "text": [
      "{'id': '8bSlx81r2GSlX417G9XNsq', 'createTime': '2021-09-26T11:08:30.000Z', 'updateTime': '2021-09-26T11:09:46.183Z', 'name': 'ImportNameFromScript', 'startTime': '2021-09-26T11:09:46.079Z', 'endTime': None, 'status': {'state': 'IN_PROGRESS', 'message': 'In Progress'}, 'objects': None, 'sourceOrgId': 'fg1dzqDZ1K3lbHp8uq5vQB', 'checksumValid': True}\n"
     ]
    }
   ],
   "source": [
    "jsonObject = {\n",
    "    \"name\" : \"ImportNameFromScript\",\n",
    "    \"importSpecification\" : {\n",
    "        \"defaultConflictResolution\" : \"OVERWRITE\",\n",
    "        \"objectSpecification\" : [\n",
    "        {\n",
    "            \"sourceObjectId\" : \"848Au1yuOzAcdxJMgPkdqy\",\n",
    "            \"targetObjectId\" : \"9YGTW8zLVaAb6O15bcjbyk\"\n",
    "        },\n",
    "        {\n",
    "            \"sourceObjectId\" : \"95OeUg6sjYVhH6zxQUB76k\",\n",
    "            \"targetObjectId\" : \"iwvniZZPdG6cltC3Uzcf2i\"\n",
    "        }]\n",
    "    }\n",
    "}\n",
    "\n",
    "# using importObj created above\n",
    "response = importObj.startImportByJobID(jobID=\"8bSlx81r2GSlX417G9XNsq\",importBody=jsonObject)\n",
    "print(response)"
   ]
  },
  {
   "cell_type": "markdown",
   "id": "85b19543",
   "metadata": {},
   "source": [
    "## Function: getStatusOfImportByImportID()"
   ]
  },
  {
   "cell_type": "markdown",
   "id": "38b19223",
   "metadata": {},
   "source": [
    ">        use this method to get the status of the import\n",
    ">        if it is a success or a failure\n",
    ">\n",
    ">        Args:\n",
    ">            importID (importID): provide the import id you recieved\n",
    ">            from uploadZipToGetJobID Method used before this\n",
    ">\n",
    ">        Returns:\n",
    ">            json: import operation status"
   ]
  },
  {
   "cell_type": "code",
   "execution_count": 36,
   "id": "6a6e6a44",
   "metadata": {},
   "outputs": [
    {
     "name": "stdout",
     "output_type": "stream",
     "text": [
      "{'id': '8bSlx81r2GSlX417G9XNsq', 'createTime': '2021-09-26T11:08:30.000Z', 'updateTime': '2021-09-26T11:09:49.000Z', 'name': 'ImportNameFromScript', 'startTime': '2021-09-26T11:09:46.000Z', 'endTime': '2021-09-26T11:09:49.000Z', 'status': {'state': 'SUCCESSFUL', 'message': 'Import completed successfully'}, 'objects': [{'sourceObject': {'id': '1QcjcQ9hXwwcqW1P93354V', 'name': 'mt_infapy_test', 'path': '/infapy', 'type': 'MTT', 'description': ''}, 'targetObject': {'id': None, 'name': 'mt_infapy_test', 'path': '/infapy', 'type': 'MTT', 'description': None, 'status': None}, 'status': {'state': 'SUCCESSFUL', 'message': 'Create object'}}, {'sourceObject': {'id': '3vVj4xdOpKsgAqwRSyhQM3', 'name': 'm_infapy_test', 'path': '/infapy', 'type': 'DTEMPLATE', 'description': ''}, 'targetObject': {'id': None, 'name': 'm_infapy_test', 'path': '/infapy', 'type': 'DTEMPLATE', 'description': None, 'status': None}, 'status': {'state': 'SUCCESSFUL', 'message': 'Create object'}}, {'sourceObject': {'id': '848Au1yuOzAcdxJMgPkdqy', 'name': '__ff', 'path': None, 'type': 'Connection', 'description': None}, 'targetObject': {'id': None, 'name': 'FF', 'path': None, 'type': 'Connection', 'description': None, 'status': None}, 'status': {'state': 'SUCCESSFUL', 'message': 'Reuse existing object'}}, {'sourceObject': {'id': '95OeUg6sjYVhH6zxQUB76k', 'name': 'prashanth-sbx', 'path': None, 'type': 'AgentGroup', 'description': None}, 'targetObject': {'id': None, 'name': 'prashanth-redhat-sbx', 'path': None, 'type': 'AgentGroup', 'description': None, 'status': None}, 'status': {'state': 'SUCCESSFUL', 'message': 'Reuse existing object'}}, {'sourceObject': {'id': 'aeOwF2U4Uauf5fdiFwaLCz', 'name': 'infapy', 'path': '/', 'type': 'Project', 'description': ''}, 'targetObject': {'id': None, 'name': 'infapy', 'path': '/', 'type': 'Project', 'description': None, 'status': None}, 'status': {'state': 'SUCCESSFUL', 'message': 'Create object'}}], 'sourceOrgId': 'fg1dzqDZ1K3lbHp8uq5vQB', 'checksumValid': True}\n"
     ]
    }
   ],
   "source": [
    "response = importObj.getStatusOfImportByImportID(importID=\"8bSlx81r2GSlX417G9XNsq\")\n",
    "print(response)"
   ]
  },
  {
   "cell_type": "markdown",
   "id": "ad178d49",
   "metadata": {},
   "source": [
    "## Function: getImportLogsByImportID()"
   ]
  },
  {
   "cell_type": "markdown",
   "id": "ec24852d",
   "metadata": {},
   "source": [
    ">        use this method to get the import\n",
    ">        logs\n",
    ">\n",
    ">        Args:\n",
    ">            importID (importID): provide the import id you recieved\n",
    ">            from uploadZipToGetJobID Method used before this\n",
    ">\n",
    ">        Returns:\n",
    ">            string text: import logs in text"
   ]
  },
  {
   "cell_type": "code",
   "execution_count": 50,
   "id": "9cf3b3a0",
   "metadata": {},
   "outputs": [
    {
     "name": "stdout",
     "output_type": "stream",
     "text": [
      "> OIE_002 INFO 2021-09-26T11:09:46.194Z Starting import operation.\n",
      "Execution Client: API\n",
      "Job Name: ImportNameFromScript\n",
      "Organization: Informatica\n",
      "RequestId: 8bSlx81r2GSlX417G9XNsq\n",
      "User: prash1234\n",
      "> OIE_006 INFO 2021-09-26T11:09:46.499Z Successfully imported object [/Explore/infapy] of type [Project] id [aeOwF2U4Uauf5fdiFwaLCz] to [/Explore/infapy]\n",
      "> OIE_006 INFO 2021-09-26T11:09:47.473Z Successfully imported object [/Explore/infapy/m_infapy_test] of type [DTEMPLATE] id [3vVj4xdOpKsgAqwRSyhQM3] to [/Explore/infapy/m_infapy_test]\n",
      "> OIE_006 INFO 2021-09-26T11:09:48.569Z Successfully imported object [/Explore/infapy/mt_infapy_test] of type [MTT] id [1QcjcQ9hXwwcqW1P93354V] to [/Explore/infapy/mt_infapy_test]\n",
      "> OIE_003 INFO 2021-09-26T11:09:48.569Z Finished import operation.\n",
      "Job Name: ImportNameFromScript\n",
      "Start Time: 9/26/21 11:09 AM\n",
      "End Time: 9/26/21 11:09 AM\n",
      "Started by: prash1234\n",
      "Start Method: API\n",
      "Source Organization: GCS IICS\n",
      "Status: SUCCESSFUL\n",
      "\n"
     ]
    }
   ],
   "source": [
    "response = importObj.getImportLogsByImportID(importID=\"8bSlx81r2GSlX417G9XNsq\")\n",
    "print(response)"
   ]
  }
 ],
 "metadata": {
  "kernelspec": {
   "display_name": "Python 3 (ipykernel)",
   "language": "python",
   "name": "python3"
  },
  "language_info": {
   "codemirror_mode": {
    "name": "ipython",
    "version": 3
   },
   "file_extension": ".py",
   "mimetype": "text/x-python",
   "name": "python",
   "nbconvert_exporter": "python",
   "pygments_lexer": "ipython3",
   "version": "3.9.6"
  }
 },
 "nbformat": 4,
 "nbformat_minor": 5
}
