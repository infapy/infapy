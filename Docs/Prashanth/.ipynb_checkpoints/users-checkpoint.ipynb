{
 "cells": [
  {
   "cell_type": "markdown",
   "id": "f3490dbe",
   "metadata": {},
   "source": [
    "# Users"
   ]
  },
  {
   "cell_type": "markdown",
   "id": "3793b12e",
   "metadata": {},
   "source": [
    "Use this resource to request Informatica Intelligent Cloud Services user details, create users, and delete users. "
   ]
  },
  {
   "cell_type": "code",
   "execution_count": 1,
   "id": "b2b94a05",
   "metadata": {},
   "outputs": [],
   "source": [
    "import infapy\n",
    "infapy.setFileLogger(name=\"test\",level=\"DEBUG\")\n",
    "infaHandler = infapy.connect(profile=\"DEV\")\n",
    "\n",
    "v3 = infaHandler.v3()\n",
    "users = v3.users()"
   ]
  },
  {
   "cell_type": "markdown",
   "id": "2a623cb3",
   "metadata": {},
   "source": [
    "## Function: getAllUsers()"
   ]
  },
  {
   "cell_type": "markdown",
   "id": "fc0b5dbf",
   "metadata": {},
   "source": [
    ">        getAllUsers can be used to fetch all the user details in you iics org\n",
    ">\n",
    ">        Returns:\n",
    ">            infaUserData: <list of dict>"
   ]
  },
  {
   "cell_type": "code",
   "execution_count": 6,
   "id": "7e37acc6",
   "metadata": {},
   "outputs": [
    {
     "name": "stdout",
     "output_type": "stream",
     "text": [
      "{'id': '0Kk2nHoX9eUgdzgu9HRYCS', 'orgId': 'fg1dzqDZ1K3lbHp8uq5vQB', 'createdBy': 'prashanth-p', 'updatedBy': 'prashanth-p', 'createTime': '2021-08-05T13:13:09.000Z', 'updateTime': '2021-08-05T13:13:09.000Z', 'userName': 'reshma-r', 'firstName': 'Reshma', 'lastName': 'Tangdu', 'description': '', 'title': 'Software Engineer', 'phone': '1234567890', 'email': 'rtangudu@informatica.com', 'state': 'Provisioned', 'timeZoneId': 'America/Los_Angeles', 'maxLoginAttempts': '10', 'authentication': 'Native', 'forcePasswordChange': False, 'lastLoginTime': None, 'lastLoginMode': 'None', 'roles': [{'id': 'aKOABsXIRP6eI0aEE32bg8', 'roleName': 'Data Preview', 'description': 'Role to preview data', 'displayName': 'Data Integration Data Previewer', 'displayDescription': 'Role to preview data'}, {'id': 'lObMwXOTigHi5XBJTU1Z8Q', 'roleName': 'Deployer', 'description': 'Role used by deployer', 'displayName': 'Deployer', 'displayDescription': 'Role used by deployer'}, {'id': '9dKyXtuAcJIdKsKZGohq49', 'roleName': 'Data Integration Task Executor', 'description': 'Role to run Data Integration tasks', 'displayName': 'Data Integration Task Executor', 'displayDescription': 'Role to run Data Integration tasks'}, {'id': '9aTuLGRQgHyjpftpLFj7Qg', 'roleName': 'Designer', 'description': 'Role for creating assets, tasks, and processes. Can configure connections, schedules, and runtime environments. Has access to the Application Integration Console.', 'displayName': 'Designer', 'displayDescription': 'Role for creating assets, tasks, and processes. Can configure connections, schedules, and runtime environments. Has access to the Application Integration Console.'}, {'id': '9gedBDoYQoQibNMohf5KCh', 'roleName': 'Admin', 'description': 'Role for performing administrative tasks for an organization. Has full access to all licensed services.', 'displayName': 'Admin', 'displayDescription': 'Role for performing administrative tasks for an organization. Has full access to all licensed services.'}], 'groups': []}\n"
     ]
    }
   ],
   "source": [
    "allusers = users.getAllUsers()\n",
    "# printing only 1 user for example\n",
    "print(allusers[4])"
   ]
  },
  {
   "cell_type": "markdown",
   "id": "ab34bea2",
   "metadata": {},
   "source": [
    "## Function: getUserByID()"
   ]
  },
  {
   "cell_type": "markdown",
   "id": "e10d37bc",
   "metadata": {},
   "source": [
    ">        We can use this method to get the user details of a particular user\n",
    ">\n",
    ">        Args:\n",
    ">            id (string): you can use the user id to get the details\n",
    ">\n",
    ">        Returns:\n",
    ">            json: infaUserDetails"
   ]
  },
  {
   "cell_type": "code",
   "execution_count": 10,
   "id": "225a3349",
   "metadata": {},
   "outputs": [
    {
     "name": "stdout",
     "output_type": "stream",
     "text": [
      "[{'id': '0Kk2nHoX9eUgdzgu9HRYCS', 'orgId': 'fg1dzqDZ1K3lbHp8uq5vQB', 'createdBy': 'prashanth-p', 'updatedBy': 'prashanth-p', 'createTime': '2021-08-05T13:13:09.000Z', 'updateTime': '2021-08-05T13:13:09.000Z', 'userName': 'reshma-r', 'firstName': 'Reshma', 'lastName': 'Tangdu', 'description': '', 'title': 'Software Engineer', 'phone': '1234567890', 'email': 'rtangudu@informatica.com', 'state': 'Provisioned', 'timeZoneId': 'America/Los_Angeles', 'maxLoginAttempts': '10', 'authentication': 'Native', 'forcePasswordChange': False, 'lastLoginTime': None, 'lastLoginMode': 'None', 'roles': [{'id': 'aKOABsXIRP6eI0aEE32bg8', 'roleName': 'Data Preview', 'description': 'Role to preview data', 'displayName': 'Data Integration Data Previewer', 'displayDescription': 'Role to preview data'}, {'id': 'lObMwXOTigHi5XBJTU1Z8Q', 'roleName': 'Deployer', 'description': 'Role used by deployer', 'displayName': 'Deployer', 'displayDescription': 'Role used by deployer'}, {'id': '9dKyXtuAcJIdKsKZGohq49', 'roleName': 'Data Integration Task Executor', 'description': 'Role to run Data Integration tasks', 'displayName': 'Data Integration Task Executor', 'displayDescription': 'Role to run Data Integration tasks'}, {'id': '9aTuLGRQgHyjpftpLFj7Qg', 'roleName': 'Designer', 'description': 'Role for creating assets, tasks, and processes. Can configure connections, schedules, and runtime environments. Has access to the Application Integration Console.', 'displayName': 'Designer', 'displayDescription': 'Role for creating assets, tasks, and processes. Can configure connections, schedules, and runtime environments. Has access to the Application Integration Console.'}, {'id': '9gedBDoYQoQibNMohf5KCh', 'roleName': 'Admin', 'description': 'Role for performing administrative tasks for an organization. Has full access to all licensed services.', 'displayName': 'Admin', 'displayDescription': 'Role for performing administrative tasks for an organization. Has full access to all licensed services.'}], 'groups': []}]\n"
     ]
    }
   ],
   "source": [
    "myUser = users.getUserByID(id=\"0Kk2nHoX9eUgdzgu9HRYCS\")\n",
    "print(myUser)"
   ]
  },
  {
   "cell_type": "markdown",
   "id": "f84ec9f3",
   "metadata": {},
   "source": [
    "## Function: createNewUser()"
   ]
  },
  {
   "cell_type": "markdown",
   "id": "608e1d61",
   "metadata": {},
   "source": [
    ">        create a new user by passing the user profile as a dict\n",
    ">\n",
    ">        Args:\n",
    ">            userProfileInJson (dict): user profile in json\n",
    ">\n",
    ">        Raises:\n",
    ">            InvalidUserDetailsProvided: if invalid json is provided\n",
    ">\n",
    ">        Returns:\n",
    ">            json: confirmation of user created"
   ]
  },
  {
   "cell_type": "code",
   "execution_count": 20,
   "id": "47fe03da",
   "metadata": {},
   "outputs": [
    {
     "name": "stdout",
     "output_type": "stream",
     "text": [
      "9gedBDoYQoQibNMohf5KCh\n",
      "9aTuLGRQgHyjpftpLFj7Qg\n",
      "04QPIavnjLOjUuXBaWX6aE\n"
     ]
    }
   ],
   "source": [
    "roles = v3.userRoles().getUserRoleByName(userRoleName=\"Admin\")\n",
    "devRoles = v3.userRoles().getUserRoleByName(userRoleName=\"Designer\")\n",
    "groups = v3.userGroups().getUserGroupByName(userGroupName=\"user_group_1\")\n",
    "print(roles[0][\"id\"])\n",
    "print(devRoles[0][\"id\"])\n",
    "print(groups[0][\"id\"])"
   ]
  },
  {
   "cell_type": "code",
   "execution_count": 22,
   "id": "9f5e8eaf",
   "metadata": {},
   "outputs": [
    {
     "name": "stdout",
     "output_type": "stream",
     "text": [
      "{'id': '27WKlN7CiCYhYPGwiBTeMJ', 'orgId': 'fg1dzqDZ1K3lbHp8uq5vQB', 'createdBy': 'prashanth-p', 'updatedBy': 'prashanth-p', 'createTime': '2021-09-26T14:14:18.424Z', 'updateTime': '2021-09-26T14:14:18.471Z', 'userName': 'pprad1234', 'firstName': 'Prashanth', 'lastName': 'Pradeep', 'description': None, 'title': None, 'phone': None, 'email': 'ppradeep@informatica.com', 'state': 'Provisioned', 'timeZoneId': 'America/Los_Angeles', 'maxLoginAttempts': '10', 'authentication': 'Native', 'forcePasswordChange': False, 'lastLoginTime': None, 'lastLoginMode': 'None', 'roles': [{'id': '9aTuLGRQgHyjpftpLFj7Qg', 'roleName': 'Designer', 'description': 'Role for creating assets, tasks, and processes. Can configure connections, schedules, and runtime environments. Has access to the Application Integration Console.', 'displayName': 'Designer', 'displayDescription': 'Role for creating assets, tasks, and processes. Can configure connections, schedules, and runtime environments. Has access to the Application Integration Console.'}, {'id': '9gedBDoYQoQibNMohf5KCh', 'roleName': 'Admin', 'description': 'Role for performing administrative tasks for an organization. Has full access to all licensed services.', 'displayName': 'Admin', 'displayDescription': 'Role for performing administrative tasks for an organization. Has full access to all licensed services.'}], 'groups': [{'id': '04QPIavnjLOjUuXBaWX6aE', 'userGroupName': 'user_group_1', 'description': None}]}\n"
     ]
    }
   ],
   "source": [
    "userProfile = {\n",
    "    \"name\" : \"pprad1234\",\n",
    "    \"firstName\" : \"Prashanth\",\n",
    "    \"lastName\" : \"Pradeep\",\n",
    "    \"email\" : \"pasds@informatica.com\",\n",
    "    \"authentication\" : 0,\n",
    "    \"roles\" : [\"9gedBDoYQoQibNMohf5KCh\", \"9aTuLGRQgHyjpftpLFj7Qg\"],\n",
    "    \"groups\" : [\"04QPIavnjLOjUuXBaWX6aE\"]\n",
    "}\n",
    "\n",
    "response = users.createNewUser(userProfileInJson=userProfile)\n",
    "print(response)"
   ]
  },
  {
   "cell_type": "markdown",
   "id": "569c27e6",
   "metadata": {},
   "source": [
    "## Function: deleteUser()"
   ]
  },
  {
   "cell_type": "code",
   "execution_count": 23,
   "id": "e0e42c00",
   "metadata": {},
   "outputs": [],
   "source": [
    "response = users.deleteUser(userID=\"27WKlN7CiCYhYPGwiBTeMJ\")"
   ]
  }
 ],
 "metadata": {
  "kernelspec": {
   "display_name": "Python 3 (ipykernel)",
   "language": "python",
   "name": "python3"
  },
  "language_info": {
   "codemirror_mode": {
    "name": "ipython",
    "version": 3
   },
   "file_extension": ".py",
   "mimetype": "text/x-python",
   "name": "python",
   "nbconvert_exporter": "python",
   "pygments_lexer": "ipython3",
   "version": "3.9.6"
  }
 },
 "nbformat": 4,
 "nbformat_minor": 5
}
