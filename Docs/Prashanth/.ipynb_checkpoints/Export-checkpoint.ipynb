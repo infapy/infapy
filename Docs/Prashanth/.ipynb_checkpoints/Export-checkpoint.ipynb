{
 "cells": [
  {
   "cell_type": "markdown",
   "id": "7d7bf551",
   "metadata": {},
   "source": [
    "# Export"
   ]
  },
  {
   "cell_type": "markdown",
   "id": "311248b0",
   "metadata": {},
   "source": [
    "Use this resource with the import resource to migrate objects from one organization to another."
   ]
  },
  {
   "cell_type": "markdown",
   "id": "f92fddf9",
   "metadata": {},
   "source": [
    "## Prerequisite - Identify the object ids"
   ]
  },
  {
   "cell_type": "markdown",
   "id": "cde0327a",
   "metadata": {},
   "source": [
    "The first step in performing the migration is to identify the object id of the object you are trying to migrate. In this example, we will be using a test mapping task which we will be migrating."
   ]
  },
  {
   "cell_type": "markdown",
   "id": "24f66f49",
   "metadata": {},
   "source": [
    "### Example code to identify the object id of the mapping task we are trying to migrate"
   ]
  },
  {
   "cell_type": "code",
   "execution_count": 3,
   "id": "d4fc4043",
   "metadata": {},
   "outputs": [
    {
     "name": "stdout",
     "output_type": "stream",
     "text": [
      "Mapping Task Details: {'objects': [{'id': '1QcjcQ9hXwwcqW1P93354V', 'path': 'infapy/mt_infapy_test', 'type': 'MTT', 'description': '', 'updatedBy': 'prashanth-p', 'updateTime': '2021-09-26T08:41:04Z'}]}\n",
      "Mapping Task ID: 1QcjcQ9hXwwcqW1P93354V\n"
     ]
    }
   ],
   "source": [
    "import infapy\n",
    "\n",
    "infapy.setFileLogger(name=\"test\",level=\"DEBUG\")\n",
    "infaHandler = infapy.connect(profile=\"DEV\")\n",
    "\n",
    "v3 = infaHandler.v3()\n",
    "mappingTaskDetails = v3.lookup(path=\"infapy/mt_infapy_test\",objectType=\"MTT\")\n",
    "print(\"Mapping Task Details: \" + str(mappingTaskDetails))\n",
    "mappingTaskID = mappingTaskDetails[\"objects\"][0][\"id\"]\n",
    "print(\"Mapping Task ID: \" + str(mappingTaskID))\n"
   ]
  },
  {
   "cell_type": "markdown",
   "id": "c9b63a62",
   "metadata": {},
   "source": [
    "## Function: startExport()"
   ]
  },
  {
   "cell_type": "markdown",
   "id": "b7b48176",
   "metadata": {},
   "source": [
    ">        Used to export an object in IICS\n",
    ">        This function initiates the export operation\n",
    ">\n",
    ">        Args:\n",
    ">            name (String): Name of your export job\n",
    ">            id (String): This is the object id which you want to export\n",
    ">            use the lookup function or object function to get the object id\n",
    ">\n",
    ">            includeDependencies (bool, optional): If you want to include dependencies. Defaults to True.\n",
    ">\n",
    ">        Returns:\n",
    ">            json: confirmation or failure response from export operation"
   ]
  },
  {
   "cell_type": "markdown",
   "id": "edf78d3a",
   "metadata": {},
   "source": [
    "### Example Code to start the export operation"
   ]
  },
  {
   "cell_type": "code",
   "execution_count": 11,
   "id": "af0a7e9f",
   "metadata": {},
   "outputs": [
    {
     "name": "stdout",
     "output_type": "stream",
     "text": [
      "{'id': '9SczgYW6zyufJkDB6Uaduz', 'createTime': '2021-09-26T09:06:38.898Z', 'updateTime': '2021-09-26T09:06:38.898Z', 'name': 'MyTestJobFromPython', 'startTime': '2021-09-26T09:06:38.803Z', 'endTime': None, 'status': {'state': 'IN_PROGRESS', 'message': 'In Progress'}, 'objects': None}\n",
      "Export Name: MyTestJobFromPython\n",
      "Export ID 9SczgYW6zyufJkDB6Uaduz\n"
     ]
    }
   ],
   "source": [
    "# name is just an identifier for your export operation\n",
    "exportObj = v3.exportObject()\n",
    "response = exportObj.startExport(name=\"MyTestJobFromPython\",ObjectId=\"1QcjcQ9hXwwcqW1P93354V\")\n",
    "print(response)\n",
    "exportID = response[\"id\"]\n",
    "print(\"Export Name: MyTestJobFromPython\")\n",
    "print(\"Export ID \" + exportID)"
   ]
  },
  {
   "cell_type": "markdown",
   "id": "5bbb83e5",
   "metadata": {},
   "source": [
    "## Function: getStatusOfExportByExportID()"
   ]
  },
  {
   "cell_type": "markdown",
   "id": "f12841ba",
   "metadata": {},
   "source": [
    ">        use this method to get the status of the export\n",
    ">        if it is a success or a failure\n",
    ">\n",
    ">        Args:\n",
    ">            exportID (exportID): provide the export id you recieved\n",
    ">            from startExport Method used before this\n",
    ">\n",
    ">        Returns:\n",
    ">            json: Export operation status"
   ]
  },
  {
   "cell_type": "markdown",
   "id": "6ea67f33",
   "metadata": {},
   "source": [
    "### Example code to get the status of export"
   ]
  },
  {
   "cell_type": "code",
   "execution_count": 12,
   "id": "0d3437e3",
   "metadata": {},
   "outputs": [
    {
     "name": "stdout",
     "output_type": "stream",
     "text": [
      "{'id': '9SczgYW6zyufJkDB6Uaduz', 'createTime': '2021-09-26T09:06:39.000Z', 'updateTime': '2021-09-26T09:06:40.000Z', 'name': 'MyTestJobFromPython', 'startTime': '2021-09-26T09:06:39.000Z', 'endTime': '2021-09-26T09:06:40.000Z', 'status': {'state': 'SUCCESSFUL', 'message': 'Export completed successfully'}, 'objects': [{'id': '1QcjcQ9hXwwcqW1P93354V', 'name': 'mt_infapy_test', 'path': '/infapy', 'type': 'MTT', 'description': '', 'status': {'state': 'SUCCESSFUL', 'message': None}}, {'id': '3vVj4xdOpKsgAqwRSyhQM3', 'name': 'm_infapy_test', 'path': '/infapy', 'type': 'DTEMPLATE', 'description': '', 'status': {'state': 'SUCCESSFUL', 'message': None}}, {'id': '848Au1yuOzAcdxJMgPkdqy', 'name': '__ff', 'path': None, 'type': 'Connection', 'description': None, 'status': {'state': 'SUCCESSFUL', 'message': None}}, {'id': '95OeUg6sjYVhH6zxQUB76k', 'name': 'prashanth-sbx', 'path': None, 'type': 'AgentGroup', 'description': None, 'status': {'state': 'SUCCESSFUL', 'message': None}}, {'id': 'aeOwF2U4Uauf5fdiFwaLCz', 'name': 'infapy', 'path': '/', 'type': 'Project', 'description': '', 'status': {'state': 'SUCCESSFUL', 'message': None}}]}\n"
     ]
    }
   ],
   "source": [
    "# exportObj variable is defined above\n",
    "# use the export id from the above code\n",
    "\n",
    "response = exportObj.getStatusOfExportByExportID(exportID=\"9SczgYW6zyufJkDB6Uaduz\")\n",
    "print(response)"
   ]
  },
  {
   "cell_type": "markdown",
   "id": "203a08d2",
   "metadata": {},
   "source": [
    "## Function: getExportLogsByExportID()"
   ]
  },
  {
   "cell_type": "markdown",
   "id": "f74bd65a",
   "metadata": {},
   "source": [
    ">        use this method to get the export\n",
    ">        logs\n",
    ">\n",
    ">        Args:\n",
    ">            exportID (exportID): provide the export id you recieved\n",
    ">            from startExport Method used before this\n",
    ">\n",
    ">        Returns:\n",
    ">            string text: Export logs in text"
   ]
  },
  {
   "cell_type": "markdown",
   "id": "a9dc76a6",
   "metadata": {},
   "source": [
    "### Example code to get exportLogsByExportID()"
   ]
  },
  {
   "cell_type": "code",
   "execution_count": 14,
   "id": "011334b0",
   "metadata": {},
   "outputs": [
    {
     "name": "stdout",
     "output_type": "stream",
     "text": [
      "> OIE_002 INFO 2021-09-26T09:06:39.017Z Starting export operation.\n",
      "Execution Client: API\n",
      "Job Name: MyTestJobFromPython\n",
      "Organization: GCS IICS\n",
      "RequestId: 9SczgYW6zyufJkDB6Uaduz\n",
      "User: prashanth-p\n",
      "> OIE_004 INFO 2021-09-26T09:06:39.139Z Successfully exported object [/Explore/infapy] of type [Project] id [aeOwF2U4Uauf5fdiFwaLCz]\n",
      "> OIE_004 INFO 2021-09-26T09:06:39.139Z Successfully exported object [/SYS/_SYSTEM_PROJECT] of type [Project] id [hrRCl2TfTa1jvmKBfGC4Il]\n",
      "> OIE_004 INFO 2021-09-26T09:06:39.237Z Successfully exported object [/SYS/_SYSTEM_FOLDER] of type [Folder] id [cfvpgEOpQmhlh1qOwkFkkc]\n",
      "> OIE_004 INFO 2021-09-26T09:06:39.463Z Successfully exported object [/SYS/prashanth-sbx] of type [AgentGroup] id [95OeUg6sjYVhH6zxQUB76k]\n",
      "> OIE_004 INFO 2021-09-26T09:06:39.592Z Successfully exported object [/SYS/__ff] of type [Connection] id [848Au1yuOzAcdxJMgPkdqy]\n",
      "> OIE_004 INFO 2021-09-26T09:06:39.721Z Successfully exported object [/Explore/infapy/m_infapy_test] of type [DTEMPLATE] id [3vVj4xdOpKsgAqwRSyhQM3]\n",
      "> OIE_004 INFO 2021-09-26T09:06:39.943Z Successfully exported object [/Explore/infapy/mt_infapy_test] of type [MTT] id [1QcjcQ9hXwwcqW1P93354V]\n",
      "> OIE_003 INFO 2021-09-26T09:06:39.943Z Finished export operation.\n",
      "Job Name: MyTestJobFromPython\n",
      "Start Time: 9/26/21 9:06 AM\n",
      "End Time: 9/26/21 9:06 AM\n",
      "Started by: prashanth-p\n",
      "Start Method: API\n",
      "Source Organization: GCS IICS\n",
      "Status: SUCCESSFUL\n",
      "\n"
     ]
    }
   ],
   "source": [
    "# exportObj variable is defined above\n",
    "# use the export id from the above code\n",
    "\n",
    "response = exportObj.getExportLogsByExportID(exportID=\"9SczgYW6zyufJkDB6Uaduz\")\n",
    "print(response)"
   ]
  },
  {
   "cell_type": "markdown",
   "id": "029d4926",
   "metadata": {},
   "source": [
    "## Function: getExportZipFileByExportID()"
   ]
  },
  {
   "cell_type": "markdown",
   "id": "c6b3e4b4",
   "metadata": {},
   "source": [
    "This is the final step in the export operation. After the above export was successful. We now need to download the package to our local computer / server, so the package can then be imported to QA or higher environments.\n",
    "\n",
    ">        Use this method to download the export object as a zip file\n",
    ">        1. startExport()\n",
    ">        2. getStatusOfExportByExportID()\n",
    ">        3. getExportZipFileByExportID()\n",
    ">        4. getExportLogsByExportID()\n",
    ">\n",
    ">        Args:\n",
    ">            exportID (String): You recieve this id when you startExport()\n",
    ">            filePath (String, optional): Path to download the object. Defaults to os.getcwd().\n",
    ">            fileName (str, optional): exportObjectName.zip. Defaults to \"infapyExportDownloaded.zip\".\n",
    ">\n",
    ">        Returns:\n",
    ">            zipfile: downloaded to filepath/filename"
   ]
  },
  {
   "cell_type": "code",
   "execution_count": 16,
   "id": "b34c8731",
   "metadata": {},
   "outputs": [],
   "source": [
    "# exportObj variable is defined above\n",
    "# use the export id from the above code\n",
    "# By default the zip file - \"infapyExportDownloaded.zip\" will get downloaded to your current working directory\n",
    "\n",
    "response = exportObj.getExportZipFileByExportID(exportID=\"9SczgYW6zyufJkDB6Uaduz\")"
   ]
  }
 ],
 "metadata": {
  "kernelspec": {
   "display_name": "Python 3 (ipykernel)",
   "language": "python",
   "name": "python3"
  },
  "language_info": {
   "codemirror_mode": {
    "name": "ipython",
    "version": 3
   },
   "file_extension": ".py",
   "mimetype": "text/x-python",
   "name": "python",
   "nbconvert_exporter": "python",
   "pygments_lexer": "ipython3",
   "version": "3.9.6"
  }
 },
 "nbformat": 4,
 "nbformat_minor": 5
}
