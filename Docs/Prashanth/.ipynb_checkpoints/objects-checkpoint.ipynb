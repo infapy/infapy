{
 "cells": [
  {
   "cell_type": "markdown",
   "id": "d162477d",
   "metadata": {},
   "source": [
    "# Objects"
   ]
  },
  {
   "cell_type": "markdown",
   "id": "ef79ec3f",
   "metadata": {},
   "source": [
    "Use the objects resource to get a list of an organization's assets. You might use this resource to find assets to export."
   ]
  },
  {
   "cell_type": "code",
   "execution_count": 7,
   "id": "d5562abe",
   "metadata": {},
   "outputs": [],
   "source": [
    "import infapy\n",
    "infapy.setFileLogger(name=\"test\",level=\"DEBUG\")\n",
    "infaHandler = infapy.connect(profile=\"QA\")\n",
    "\n",
    "v3 = infaHandler.v3()\n",
    "obj = v3.objects()"
   ]
  },
  {
   "cell_type": "markdown",
   "id": "4e0e31a8",
   "metadata": {},
   "source": [
    "## Function: getObjectID()"
   ]
  },
  {
   "cell_type": "markdown",
   "id": "9d612649",
   "metadata": {},
   "source": [
    ">        get the object IDs of objects in IICS\n",
    ">\n",
    ">        Args:\n",
    ">            q ([type], optional): [description]. Defaults to None.\n",
    ">            limit (int, optional): [description]. Defaults to 200.\n",
    ">            skip ([type], optional): [description]. Defaults to None.\n",
    ">       \n",
    ">       To build the query, read the docs:\n",
    ">           https://docs.informatica.com/integration-cloud/cloud-platform/current-version/rest-api-reference/platform-rest-api-version-3-resources/objects/finding-assets.html"
   ]
  },
  {
   "cell_type": "code",
   "execution_count": 13,
   "id": "ecc9e982",
   "metadata": {},
   "outputs": [
    {
     "name": "stdout",
     "output_type": "stream",
     "text": [
      "{'count': 1, 'objects': [{'id': '4JzMQBmn5YWbX1CCECivWK', 'path': 'infapy/mt_infapy_test', 'type': 'MTT', 'description': '', 'updatedBy': 'prash1234', 'updateTime': '2021-09-26T11:09:48Z', 'tags': [], 'sourceControl': None, 'customAttributes': None}]}\n"
     ]
    }
   ],
   "source": [
    "queryString=\"type=='MTT'\"\n",
    "myObjects = obj.getObjectID(q=queryString)\n",
    "print(myObjects)"
   ]
  },
  {
   "cell_type": "markdown",
   "id": "faee714b",
   "metadata": {},
   "source": [
    "## Function: getObjectDependency()"
   ]
  },
  {
   "cell_type": "markdown",
   "id": "5d663ae1",
   "metadata": {},
   "source": [
    ">        Get object dependency of objects in IICS\n",
    ">\n",
    ">        Args:\n",
    ">            objectID (str): string object id\n",
    ">            refType (str, optional): uses or usedBy. Defaults to \"uses\".\n",
    ">            limit (int, optional): Max 50. Defaults to 50.\n",
    ">            skip ([type], optional): Number of elements to skip from the beginning. Defaults to 0.\n",
    ">\n",
    ">        Returns:\n",
    ">            list of dict: dependency list in json"
   ]
  },
  {
   "cell_type": "code",
   "execution_count": 14,
   "id": "d2ca60df",
   "metadata": {},
   "outputs": [
    {
     "name": "stdout",
     "output_type": "stream",
     "text": [
      "{'count': 3, '@id': '4JzMQBmn5YWbX1CCECivWK', 'references': [{'id': '9YGTW8zLVaAb6O15bcjbyk', 'appContextId': '01AU220B000000000002', 'path': 'FF', 'documentType': 'SAAS_CONNECTION', 'description': None, 'lastUpdatedTime': '2021-09-25T07:12:53Z'}, {'id': 'lI0qCBPFUyKfSYNPSZNLMT', 'appContextId': '01AU2217000000000005', 'path': 'infapy/m_infapy_test', 'documentType': 'MAPPING', 'description': '', 'lastUpdatedTime': '2021-09-26T11:09:47Z'}, {'id': 'iwvniZZPdG6cltC3Uzcf2i', 'appContextId': '01AU2225000000000002', 'path': 'prashanth-redhat-sbx', 'documentType': 'SAAS_RUNTIME_ENVIRONMENT', 'description': None, 'lastUpdatedTime': '2021-09-25T07:03:24Z'}]}\n"
     ]
    }
   ],
   "source": [
    "myObjectsDependencies = obj.getObjectDependency(objectID=\"4JzMQBmn5YWbX1CCECivWK\")\n",
    "print(myObjectsDependencies)"
   ]
  }
 ],
 "metadata": {
  "kernelspec": {
   "display_name": "Python 3 (ipykernel)",
   "language": "python",
   "name": "python3"
  },
  "language_info": {
   "codemirror_mode": {
    "name": "ipython",
    "version": 3
   },
   "file_extension": ".py",
   "mimetype": "text/x-python",
   "name": "python",
   "nbconvert_exporter": "python",
   "pygments_lexer": "ipython3",
   "version": "3.9.6"
  }
 },
 "nbformat": 4,
 "nbformat_minor": 5
}
